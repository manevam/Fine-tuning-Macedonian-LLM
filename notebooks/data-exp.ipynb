{
 "cells": [
  {
   "cell_type": "code",
   "id": "initial_id",
   "metadata": {
    "collapsed": true,
    "ExecuteTime": {
     "end_time": "2025-02-24T13:43:26.046203Z",
     "start_time": "2025-02-24T13:43:26.042640Z"
    }
   },
   "source": "import fitz",
   "outputs": [],
   "execution_count": 70
  },
  {
   "metadata": {
    "ExecuteTime": {
     "end_time": "2025-02-24T13:43:26.059457Z",
     "start_time": "2025-02-24T13:43:26.054359Z"
    }
   },
   "cell_type": "code",
   "source": [
    "pdf_path = \"/home/maneva/Documents/Personal/timski proekt/data/Шеќерна приказна - текст.pdf\"\n",
    "output_path = \"/home/maneva/Documents/Personal/timski proekt/data/to_txt\""
   ],
   "id": "dcb18de5bb0714fb",
   "outputs": [],
   "execution_count": 71
  },
  {
   "metadata": {
    "ExecuteTime": {
     "end_time": "2025-02-24T13:43:26.115099Z",
     "start_time": "2025-02-24T13:43:26.108704Z"
    }
   },
   "cell_type": "code",
   "source": [
    "def extract_text_from_pdf(pdf_path):\n",
    "    doc = fitz.open(pdf_path)  # Open the PDF\n",
    "    text = \"\"\n",
    "    for page_num in range(doc.page_count):\n",
    "        page = doc.load_page(page_num)  # Load each page\n",
    "        text += page.get_text()  # Extract text from the page\n",
    "    return text"
   ],
   "id": "8ca904a43b79f99f",
   "outputs": [],
   "execution_count": 72
  },
  {
   "metadata": {
    "ExecuteTime": {
     "end_time": "2025-02-24T13:43:26.170908Z",
     "start_time": "2025-02-24T13:43:26.165802Z"
    }
   },
   "cell_type": "code",
   "source": [
    "def save_text_to_file(text, output_path):\n",
    "    with open(output_path, \"w\", encoding=\"utf-8\") as file:\n",
    "        file.write(text)"
   ],
   "id": "da3fbfd3cbe1af09",
   "outputs": [],
   "execution_count": 73
  },
  {
   "metadata": {
    "ExecuteTime": {
     "end_time": "2025-02-24T13:43:26.222260Z",
     "start_time": "2025-02-24T13:43:26.217511Z"
    }
   },
   "cell_type": "code",
   "source": [
    "data = pdf_path.split(\"/\")\n",
    "title = data[7]\n",
    "title = title.replace(\".pdf\", \"\")"
   ],
   "id": "39033a3ba1f4bbd0",
   "outputs": [],
   "execution_count": 74
  },
  {
   "metadata": {
    "ExecuteTime": {
     "end_time": "2025-02-24T13:43:26.368902Z",
     "start_time": "2025-02-24T13:43:26.270801Z"
    }
   },
   "cell_type": "code",
   "source": [
    "text = extract_text_from_pdf(pdf_path)\n",
    "save_text_to_file(text, output_path + \"/\" + title + \".txt\")"
   ],
   "id": "f5459bc880158c5b",
   "outputs": [],
   "execution_count": 75
  }
 ],
 "metadata": {
  "kernelspec": {
   "display_name": "timski-proekt",
   "language": "python",
   "name": "timski-proekt"
  },
  "language_info": {
   "codemirror_mode": {
    "name": "ipython",
    "version": 2
   },
   "file_extension": ".py",
   "mimetype": "text/x-python",
   "name": "python",
   "nbconvert_exporter": "python",
   "pygments_lexer": "ipython2",
   "version": "2.7.6"
  }
 },
 "nbformat": 4,
 "nbformat_minor": 5
}
